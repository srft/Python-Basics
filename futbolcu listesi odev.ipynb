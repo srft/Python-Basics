{
 "cells": [
  {
   "cell_type": "code",
   "execution_count": null,
   "metadata": {},
   "outputs": [],
   "source": [
    "with open(\"futbolcular.txt\",\"r\",encoding=\"utf-8\") as file:\n",
    "    gs = list()\n",
    "    bjk = list()\n",
    "    fb = list()\n",
    "    \n",
    "    for satır in file:\n",
    "        satır = satır[:-1]\n",
    "        satır_elemanları = satır.split(\",\")\n",
    "        if (satır_elemanları[1] == \"Fenerbahçe\"):\n",
    "            fb.append(satır + \"\\n\")\n",
    "        elif (satır_elemanları[1] == \"Galatasaray\"):\n",
    "            gs.append(satır + \"\\n\")\n",
    "\n",
    "        else:\n",
    "            bjk.append(satır + \"\\n\")\n",
    "    with open(\"gs.txt\",\"w\",encoding=\"utf-8\") as file1:\n",
    "        for i in gs:\n",
    "            file1.write(i)\n",
    "            \n",
    "            \n",
    "\n",
    "    with open(\"fb.txt\",\"w\",encoding=\"utf-8\") as file2:\n",
    "        for i in fb:\n",
    "            file2.write(i)\n",
    "    with open(\"bjk.txt\",\"w\",encoding=\"utf-8\") as file3:\n",
    "        for i in bjk:\n",
    "            file3.write(i)\n"
   ]
  },
  {
   "cell_type": "code",
   "execution_count": 2,
   "metadata": {},
   "outputs": [],
   "source": [
    "with open(\"futbolcular.txt\",\"r\",encoding = \"utf-8\") as file:\n",
    "    gs = list()\n",
    "    fb = list()\n",
    "    bjk = list()\n",
    "    \n",
    "    for satir in file:\n",
    "        satir = satir[:-1]\n",
    "        satir_elemanlari = satir.split(\",\")\n",
    "        if (satir_elemanlari[1] == \"Galatasaray\"):\n",
    "            gs.append(satir + \"\\n\")\n",
    "        elif (satir_elemanlari[1] == \"Fenerbahce\"):\n",
    "            fb.append(satir + \"\\n\")\n",
    "        else:\n",
    "            bjk.append(satir + \"\\n\")\n",
    "            \n",
    "    with open (\"gs.txt\",\"w\",encoding = \"utf-8\") as file1:\n",
    "        for i in gs:\n",
    "            file1.write(i)\n",
    "    with open (\"fb.txt\",\"w\",encoding = \"utf-8\") as file2:\n",
    "        for i in fb:\n",
    "            file2.write(i)        \n",
    "    with open (\"bjk.txt\",\"w\",encoding = \"utf-8\") as file3:\n",
    "        for i in gs:\n",
    "            file3.write(i)        \n",
    "        \n",
    "    "
   ]
  },
  {
   "cell_type": "code",
   "execution_count": 3,
   "metadata": {},
   "outputs": [],
   "source": [
    "file.close()"
   ]
  },
  {
   "cell_type": "code",
   "execution_count": 4,
   "metadata": {},
   "outputs": [],
   "source": [
    "file1.close()"
   ]
  },
  {
   "cell_type": "code",
   "execution_count": 6,
   "metadata": {},
   "outputs": [],
   "source": [
    "file2.close()"
   ]
  },
  {
   "cell_type": "code",
   "execution_count": 7,
   "metadata": {},
   "outputs": [],
   "source": [
    "file3.close()"
   ]
  },
  {
   "cell_type": "code",
   "execution_count": 8,
   "metadata": {},
   "outputs": [],
   "source": [
    "liste = ([3,4],[10,3],[5,6],[1,9])"
   ]
  },
  {
   "cell_type": "code",
   "execution_count": 9,
   "metadata": {},
   "outputs": [
    {
     "ename": "TypeError",
     "evalue": "<lambda>() missing 1 required positional argument: 'y'",
     "output_type": "error",
     "traceback": [
      "\u001b[1;31m---------------------------------------------------------------------------\u001b[0m",
      "\u001b[1;31mTypeError\u001b[0m                                 Traceback (most recent call last)",
      "\u001b[1;32m<ipython-input-9-3a9ec2a332b5>\u001b[0m in \u001b[0;36m<module>\u001b[1;34m\u001b[0m\n\u001b[1;32m----> 1\u001b[1;33m \u001b[0mlist\u001b[0m\u001b[1;33m(\u001b[0m\u001b[0mmap\u001b[0m\u001b[1;33m(\u001b[0m\u001b[1;32mlambda\u001b[0m \u001b[0mx\u001b[0m\u001b[1;33m,\u001b[0m\u001b[0my\u001b[0m\u001b[1;33m:\u001b[0m \u001b[0mx\u001b[0m \u001b[1;33m*\u001b[0m \u001b[0my\u001b[0m\u001b[1;33m,\u001b[0m\u001b[0mliste\u001b[0m\u001b[1;33m)\u001b[0m\u001b[1;33m)\u001b[0m\u001b[1;33m\u001b[0m\u001b[1;33m\u001b[0m\u001b[0m\n\u001b[0m",
      "\u001b[1;31mTypeError\u001b[0m: <lambda>() missing 1 required positional argument: 'y'"
     ]
    }
   ],
   "source": [
    "list(map(lambda x,y: x * y,liste))"
   ]
  },
  {
   "cell_type": "code",
   "execution_count": 11,
   "metadata": {},
   "outputs": [
    {
     "name": "stdout",
     "output_type": "stream",
     "text": [
      "[12, 30, 30, 9]\n"
     ]
    }
   ],
   "source": [
    "def alan_hesapla(demet):\n",
    "    return demet[0] * demet[1]\n",
    "liste = ([3,4],[10,3],[5,6],[1,9])\n",
    "print(list(map(alan_hesapla,liste)))"
   ]
  },
  {
   "cell_type": "code",
   "execution_count": 13,
   "metadata": {},
   "outputs": [
    {
     "name": "stdout",
     "output_type": "stream",
     "text": [
      "[12, 30, 30, 9]\n"
     ]
    }
   ],
   "source": [
    "liste = ([3,4],[10,3],[5,6],[1,9])\n",
    "def alan_hesapla(demet):\n",
    "    return demet[0] * demet[1]\n",
    "print(list(map(alan_hesapla,liste)))"
   ]
  },
  {
   "cell_type": "code",
   "execution_count": 15,
   "metadata": {},
   "outputs": [
    {
     "name": "stdout",
     "output_type": "stream",
     "text": [
      "Kerim Yılmaz\n",
      "Tarık Öztürk\n",
      "Ezgi Dağdeviren\n",
      "Kemal Atatürk\n",
      "İlkay Dikmen\n",
      "Şükran Kaya\n",
      "Merve Polat\n"
     ]
    }
   ],
   "source": [
    "isimler = [\"Kerim\",\"Tarık\",\"Ezgi\",\"Kemal\",\"İlkay\",\"Şükran\",\"Merve\"]\n",
    "\n",
    "soyisimler = [\"Yılmaz\",\"Öztürk\",\"Dağdeviren\",\"Atatürk\",\"Dikmen\",\"Kaya\",\"Polat\"]\n",
    "\n",
    "for i,j in zip(isimler,soyisimler):\n",
    "    print(i,j)"
   ]
  },
  {
   "cell_type": "code",
   "execution_count": 18,
   "metadata": {},
   "outputs": [
    {
     "data": {
      "text/plain": [
       "'*s*mler'"
      ]
     },
     "execution_count": 18,
     "metadata": {},
     "output_type": "execute_result"
    }
   ],
   "source": [
    "\"isimler\".replace(\"i\",\"*\")"
   ]
  },
  {
   "cell_type": "code",
   "execution_count": 22,
   "metadata": {},
   "outputs": [
    {
     "ename": "SyntaxError",
     "evalue": "invalid syntax (<ipython-input-22-507ae1b3b110>, line 3)",
     "output_type": "error",
     "traceback": [
      "\u001b[1;36m  File \u001b[1;32m\"<ipython-input-22-507ae1b3b110>\"\u001b[1;36m, line \u001b[1;32m3\u001b[0m\n\u001b[1;33m    return +=1\u001b[0m\n\u001b[1;37m            ^\u001b[0m\n\u001b[1;31mSyntaxError\u001b[0m\u001b[1;31m:\u001b[0m invalid syntax\n"
     ]
    }
   ],
   "source": [
    "for i in (isimler):\n",
    "    \"i\".replace(\"a\",\"x\")\n",
    "    return += 1"
   ]
  },
  {
   "cell_type": "code",
   "execution_count": 23,
   "metadata": {},
   "outputs": [
    {
     "name": "stdout",
     "output_type": "stream",
     "text": [
      "Merve\n"
     ]
    }
   ],
   "source": [
    "print(i)"
   ]
  },
  {
   "cell_type": "code",
   "execution_count": null,
   "metadata": {},
   "outputs": [],
   "source": []
  }
 ],
 "metadata": {
  "kernelspec": {
   "display_name": "Python 3",
   "language": "python",
   "name": "python3"
  },
  "language_info": {
   "codemirror_mode": {
    "name": "ipython",
    "version": 3
   },
   "file_extension": ".py",
   "mimetype": "text/x-python",
   "name": "python",
   "nbconvert_exporter": "python",
   "pygments_lexer": "ipython3",
   "version": "3.7.6"
  }
 },
 "nbformat": 4,
 "nbformat_minor": 4
}
